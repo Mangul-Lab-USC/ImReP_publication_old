{
 "cells": [
  {
   "cell_type": "code",
   "execution_count": 62,
   "metadata": {},
   "outputs": [],
   "source": [
    "import seaborn as sns\n",
    "import numpy as np\n",
    "import matplotlib.pyplot as plt\n",
    "import pandas as pd\n",
    "import scipy.stats as stats\n",
    "from matplotlib.ticker import ScalarFormatter"
   ]
  },
  {
   "cell_type": "code",
   "execution_count": 63,
   "metadata": {},
   "outputs": [],
   "source": [
    "colors = ['#F7941D', '#00b9f2', '#00a875', '#ecde38', '#0072bc', '#F15a22', '#da6fab']\n",
    "sns.set_palette(sns.color_palette(colors))\n",
    "sns.set_context('talk')\n",
    "sns.set_style('white')"
   ]
  },
  {
   "cell_type": "code",
   "execution_count": 64,
   "metadata": {},
   "outputs": [
    {
     "data": {
      "text/html": [
       "<div>\n",
       "<style scoped>\n",
       "    .dataframe tbody tr th:only-of-type {\n",
       "        vertical-align: middle;\n",
       "    }\n",
       "\n",
       "    .dataframe tbody tr th {\n",
       "        vertical-align: top;\n",
       "    }\n",
       "\n",
       "    .dataframe thead th {\n",
       "        text-align: right;\n",
       "    }\n",
       "</style>\n",
       "<table border=\"1\" class=\"dataframe\">\n",
       "  <thead>\n",
       "    <tr style=\"text-align: right;\">\n",
       "      <th></th>\n",
       "      <th>Chain type</th>\n",
       "      <th>sharing_type</th>\n",
       "      <th>average_shared</th>\n",
       "    </tr>\n",
       "  </thead>\n",
       "  <tbody>\n",
       "    <tr>\n",
       "      <th>0</th>\n",
       "      <td>IGH</td>\n",
       "      <td>The same individuals</td>\n",
       "      <td>1.523003</td>\n",
       "    </tr>\n",
       "    <tr>\n",
       "      <th>1</th>\n",
       "      <td>IGK</td>\n",
       "      <td>The same individuals</td>\n",
       "      <td>13.936528</td>\n",
       "    </tr>\n",
       "    <tr>\n",
       "      <th>2</th>\n",
       "      <td>IGL</td>\n",
       "      <td>The same individuals</td>\n",
       "      <td>5.396147</td>\n",
       "    </tr>\n",
       "    <tr>\n",
       "      <th>3</th>\n",
       "      <td>IGH</td>\n",
       "      <td>Different individuals</td>\n",
       "      <td>0.100000</td>\n",
       "    </tr>\n",
       "    <tr>\n",
       "      <th>4</th>\n",
       "      <td>IGK</td>\n",
       "      <td>Different individuals</td>\n",
       "      <td>8.166530</td>\n",
       "    </tr>\n",
       "    <tr>\n",
       "      <th>5</th>\n",
       "      <td>IGL</td>\n",
       "      <td>Different individuals</td>\n",
       "      <td>2.448783</td>\n",
       "    </tr>\n",
       "  </tbody>\n",
       "</table>\n",
       "</div>"
      ],
      "text/plain": [
       "  Chain type           sharing_type  average_shared\n",
       "0        IGH   The same individuals        1.523003\n",
       "1        IGK   The same individuals       13.936528\n",
       "2        IGL   The same individuals        5.396147\n",
       "3        IGH  Different individuals        0.100000\n",
       "4        IGK  Different individuals        8.166530\n",
       "5        IGL  Different individuals        2.448783"
      ]
     },
     "execution_count": 64,
     "metadata": {},
     "output_type": "execute_result"
    }
   ],
   "source": [
    "tissue_df = pd.read_csv('../summary_data/Figure5a.csv')\n",
    "tissue_df = pd.melt(tissue_df, id_vars=['Chain type'], value_vars=['The same individuals', 'Different individuals'], \n",
    "                    var_name='sharing_type', value_name='average_shared')\n",
    "tissue_df"
   ]
  },
  {
   "cell_type": "code",
   "execution_count": 65,
   "metadata": {},
   "outputs": [
    {
     "data": {
      "text/plain": [
       "<Figure size 504x360 with 0 Axes>"
      ]
     },
     "metadata": {},
     "output_type": "display_data"
    },
    {
     "data": {
      "image/png": "[encoded data removed]",
      "text/plain": [
       "<Figure size 432x288 with 1 Axes>"
      ]
     },
     "metadata": {},
     "output_type": "display_data"
    }
   ],
   "source": [
    "plt.figure(figsize=(7,5))\n",
    "fig, ax = plt.subplots(nrows=1, ncols=1)\n",
    "\n",
    "g=sns.barplot(data=tissue_df, x='Chain type', y='average_shared', hue='sharing_type', saturation=1)\n",
    "g.set(xlabel='', ylabel='Number of shared clonotypes')#, yscale='log')\n",
    "#plt.title(\"IGH\")\n",
    "handles, labels = g.get_legend_handles_labels()\n",
    "plt.legend(handles, ['across tissues within the same individual', 'across tissues from different individuals'], \n",
    "           bbox_to_anchor=(0.47, -.4, 0, 0.), frameon=False, ncol=1, handletextpad=0.2, columnspacing=0.8, \n",
    "           loc='lower center', prop={'size': 15})\n",
    "g=sns.despine()\n",
    "\n",
    "ax.yaxis.set_major_formatter(ScalarFormatter())\n",
    "plt.yticks(range(0,15,2))\n",
    "\n",
    "plt.savefig('../figures/Figure5_a.png', bbox_inches='tight')\n",
    "plt.savefig('../figures/Figure5_a.pdf', bbox_inches='tight')"
   ]
  },
  {
   "cell_type": "code",
   "execution_count": null,
   "metadata": {},
   "outputs": [],
   "source": []
  }
 ],
 "metadata": {
  "kernelspec": {
   "display_name": "Python 3",
   "language": "python",
   "name": "python3"
  },
  "language_info": {
   "codemirror_mode": {
    "name": "ipython",
    "version": 3
   },
   "file_extension": ".py",
   "mimetype": "text/x-python",
   "name": "python",
   "nbconvert_exporter": "python",
   "pygments_lexer": "ipython3",
   "version": "3.7.3"
  }
 },
 "nbformat": 4,
 "nbformat_minor": 2
}
